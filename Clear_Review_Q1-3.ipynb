{
 "cells": [
  {
   "cell_type": "code",
   "execution_count": 53,
   "metadata": {},
   "outputs": [],
   "source": [
    "# creating the data to work with, where L would be the query producing the output given in task"
   ]
  },
  {
   "cell_type": "code",
   "execution_count": 54,
   "metadata": {},
   "outputs": [],
   "source": [
    "L = {'03/01/2020': [('Check-in', 6), ('Wellbeing Conversation', 2), ('One-2-One', 2), ('Wellbeing Conversation1', 21), ('One-2-One2', 6)]}\n"
   ]
  },
  {
   "cell_type": "code",
   "execution_count": 55,
   "metadata": {},
   "outputs": [],
   "source": [
    "#  returning dictionary"
   ]
  },
  {
   "cell_type": "code",
   "execution_count": 56,
   "metadata": {},
   "outputs": [
    {
     "data": {
      "text/plain": [
       "{'03/01/2020': [('Check-in', 6),\n",
       "  ('Wellbeing Conversation', 2),\n",
       "  ('One-2-One', 2),\n",
       "  ('Wellbeing Conversation1', 21),\n",
       "  ('One-2-One2', 6)]}"
      ]
     },
     "execution_count": 56,
     "metadata": {},
     "output_type": "execute_result"
    }
   ],
   "source": [
    "L\n"
   ]
  },
  {
   "cell_type": "code",
   "execution_count": 57,
   "metadata": {},
   "outputs": [],
   "source": [
    "# returning value from key as a list, creating loop to ensure if key is changed function still works"
   ]
  },
  {
   "cell_type": "code",
   "execution_count": 58,
   "metadata": {},
   "outputs": [
    {
     "name": "stdout",
     "output_type": "stream",
     "text": [
      "[('Check-in', 6), ('Wellbeing Conversation', 2), ('One-2-One', 2), ('Wellbeing Conversation1', 21), ('One-2-One2', 6)]\n"
     ]
    }
   ],
   "source": [
    "for i in L:\n",
    "    print(L[i])"
   ]
  },
  {
   "cell_type": "code",
   "execution_count": 59,
   "metadata": {},
   "outputs": [],
   "source": [
    "# creating dictionary from the list of values from key, assigning to value x"
   ]
  },
  {
   "cell_type": "code",
   "execution_count": 60,
   "metadata": {},
   "outputs": [
    {
     "data": {
      "text/plain": [
       "{'Check-in': 6,\n",
       " 'Wellbeing Conversation': 2,\n",
       " 'One-2-One': 2,\n",
       " 'Wellbeing Conversation1': 21,\n",
       " 'One-2-One2': 6}"
      ]
     },
     "execution_count": 60,
     "metadata": {},
     "output_type": "execute_result"
    }
   ],
   "source": [
    "x = dict(L[i])\n",
    "x"
   ]
  },
  {
   "cell_type": "code",
   "execution_count": 61,
   "metadata": {},
   "outputs": [],
   "source": [
    "#structuring into JSON"
   ]
  },
  {
   "cell_type": "code",
   "execution_count": 62,
   "metadata": {},
   "outputs": [],
   "source": [
    "import json"
   ]
  },
  {
   "cell_type": "code",
   "execution_count": 63,
   "metadata": {},
   "outputs": [],
   "source": [
    "L_json = json.dumps(x)"
   ]
  },
  {
   "cell_type": "code",
   "execution_count": 64,
   "metadata": {},
   "outputs": [
    {
     "name": "stdout",
     "output_type": "stream",
     "text": [
      "{\"Check-in\": 6, \"Wellbeing Conversation\": 2, \"One-2-One\": 2, \"Wellbeing Conversation1\": 21, \"One-2-One2\": 6}\n"
     ]
    }
   ],
   "source": [
    "print(json.dumps(x))"
   ]
  },
  {
   "cell_type": "code",
   "execution_count": 65,
   "metadata": {},
   "outputs": [],
   "source": [
    "# checking that if the key is changed, the above still works"
   ]
  },
  {
   "cell_type": "code",
   "execution_count": 66,
   "metadata": {},
   "outputs": [],
   "source": [
    "L['04/20'] = L.pop('03/01/2020')\n"
   ]
  },
  {
   "cell_type": "code",
   "execution_count": 67,
   "metadata": {},
   "outputs": [
    {
     "data": {
      "text/plain": [
       "{'04/20': [('Check-in', 6),\n",
       "  ('Wellbeing Conversation', 2),\n",
       "  ('One-2-One', 2),\n",
       "  ('Wellbeing Conversation1', 21),\n",
       "  ('One-2-One2', 6)]}"
      ]
     },
     "execution_count": 67,
     "metadata": {},
     "output_type": "execute_result"
    }
   ],
   "source": [
    "L"
   ]
  },
  {
   "cell_type": "code",
   "execution_count": 68,
   "metadata": {},
   "outputs": [
    {
     "name": "stdout",
     "output_type": "stream",
     "text": [
      "[('Check-in', 6), ('Wellbeing Conversation', 2), ('One-2-One', 2), ('Wellbeing Conversation1', 21), ('One-2-One2', 6)]\n"
     ]
    },
    {
     "data": {
      "text/plain": [
       "{'Check-in': 6,\n",
       " 'Wellbeing Conversation': 2,\n",
       " 'One-2-One': 2,\n",
       " 'Wellbeing Conversation1': 21,\n",
       " 'One-2-One2': 6}"
      ]
     },
     "execution_count": 68,
     "metadata": {},
     "output_type": "execute_result"
    }
   ],
   "source": [
    "for i in L:\n",
    "    print(L[i])\n",
    "dict(L[i])"
   ]
  },
  {
   "cell_type": "code",
   "execution_count": null,
   "metadata": {},
   "outputs": [],
   "source": [
    "#still works"
   ]
  }
 ],
 "metadata": {
  "kernelspec": {
   "display_name": "Python 3",
   "language": "python",
   "name": "python3"
  },
  "language_info": {
   "codemirror_mode": {
    "name": "ipython",
    "version": 3
   },
   "file_extension": ".py",
   "mimetype": "text/x-python",
   "name": "python",
   "nbconvert_exporter": "python",
   "pygments_lexer": "ipython3",
   "version": "3.8.3"
  }
 },
 "nbformat": 4,
 "nbformat_minor": 4
}
