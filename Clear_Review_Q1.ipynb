{
 "cells": [
  {
   "cell_type": "code",
   "execution_count": null,
   "metadata": {},
   "outputs": [],
   "source": [
    "# creating the data to work with"
   ]
  },
  {
   "cell_type": "code",
   "execution_count": 1,
   "metadata": {},
   "outputs": [],
   "source": [
    "L = {'03/01/2020':   [('Check-in', 6), ('Wellbeing Conversation', 2), ('One-2-One', 2), ('Wellbeing Conversation1', 21), ('One-2-One2', 6)]}\n"
   ]
  },
  {
   "cell_type": "code",
   "execution_count": null,
   "metadata": {},
   "outputs": [],
   "source": [
    "#  returning dictionary"
   ]
  },
  {
   "cell_type": "code",
   "execution_count": 2,
   "metadata": {},
   "outputs": [
    {
     "data": {
      "text/plain": [
       "{'03/01/2020': [('Check-in', 6),\n",
       "  ('Wellbeing Conversation', 2),\n",
       "  ('One-2-One', 2),\n",
       "  ('Wellbeing Conversation1', 21),\n",
       "  ('One-2-One2', 6)]}"
      ]
     },
     "execution_count": 2,
     "metadata": {},
     "output_type": "execute_result"
    }
   ],
   "source": [
    "L\n"
   ]
  },
  {
   "cell_type": "code",
   "execution_count": null,
   "metadata": {},
   "outputs": [],
   "source": [
    "# returning value from key as a list, creating loop to ensure if key is changed function still works"
   ]
  },
  {
   "cell_type": "code",
   "execution_count": 3,
   "metadata": {},
   "outputs": [
    {
     "name": "stdout",
     "output_type": "stream",
     "text": [
      "[('Check-in', 6), ('Wellbeing Conversation', 2), ('One-2-One', 2), ('Wellbeing Conversation1', 21), ('One-2-One2', 6)]\n"
     ]
    }
   ],
   "source": [
    "for i in L:\n",
    "    print(L[i])"
   ]
  },
  {
   "cell_type": "code",
   "execution_count": null,
   "metadata": {},
   "outputs": [],
   "source": [
    "# creating dictionary from list of values from key"
   ]
  },
  {
   "cell_type": "code",
   "execution_count": 4,
   "metadata": {},
   "outputs": [
    {
     "data": {
      "text/plain": [
       "{'Check-in': 6,\n",
       " 'Wellbeing Conversation': 2,\n",
       " 'One-2-One': 2,\n",
       " 'Wellbeing Conversation1': 21,\n",
       " 'One-2-One2': 6}"
      ]
     },
     "execution_count": 4,
     "metadata": {},
     "output_type": "execute_result"
    }
   ],
   "source": [
    "dict(L[i])"
   ]
  },
  {
   "cell_type": "code",
   "execution_count": 5,
   "metadata": {},
   "outputs": [],
   "source": [
    "# checking that if key is changed, the above still works"
   ]
  },
  {
   "cell_type": "code",
   "execution_count": 6,
   "metadata": {},
   "outputs": [
    {
     "name": "stdout",
     "output_type": "stream",
     "text": [
      "[('Check-in', 6), ('Wellbeing Conversation', 2), ('One-2-One', 2), ('Wellbeing Conversation1', 21), ('One-2-One2', 6)]\n"
     ]
    },
    {
     "data": {
      "text/plain": [
       "{'Check-in': 6,\n",
       " 'Wellbeing Conversation': 2,\n",
       " 'One-2-One': 2,\n",
       " 'Wellbeing Conversation1': 21,\n",
       " 'One-2-One2': 6}"
      ]
     },
     "execution_count": 6,
     "metadata": {},
     "output_type": "execute_result"
    }
   ],
   "source": [
    "L['04/20'] = L.pop('03/01/2020')\n",
    "for i in L:\n",
    "    print(L[i])\n",
    "dict(L[i])"
   ]
  },
  {
   "cell_type": "code",
   "execution_count": null,
   "metadata": {},
   "outputs": [],
   "source": []
  }
 ],
 "metadata": {
  "kernelspec": {
   "display_name": "Python 3",
   "language": "python",
   "name": "python3"
  },
  "language_info": {
   "codemirror_mode": {
    "name": "ipython",
    "version": 3
   },
   "file_extension": ".py",
   "mimetype": "text/x-python",
   "name": "python",
   "nbconvert_exporter": "python",
   "pygments_lexer": "ipython3",
   "version": "3.8.3"
  }
 },
 "nbformat": 4,
 "nbformat_minor": 4
}
